{
  "nbformat": 4,
  "nbformat_minor": 0,
  "metadata": {
    "colab": {
      "provenance": [],
      "authorship_tag": "ABX9TyMWokwyKYqFaXT40SuirUHf",
      "include_colab_link": true
    },
    "kernelspec": {
      "name": "python3",
      "display_name": "Python 3"
    },
    "language_info": {
      "name": "python"
    }
  },
  "cells": [
    {
      "cell_type": "markdown",
      "metadata": {
        "id": "view-in-github",
        "colab_type": "text"
      },
      "source": [
        "<a href=\"https://colab.research.google.com/github/janani92004/innomatics/blob/main/innomatics_part_2.ipynb\" target=\"_parent\"><img src=\"https://colab.research.google.com/assets/colab-badge.svg\" alt=\"Open In Colab\"/></a>"
      ]
    },
    {
      "cell_type": "code",
      "source": [
        "\n",
        "import chardet\n",
        "file_path = '/content/HSR_Layout.csv'\n",
        "\n",
        "with open(file_path, 'rb') as file:\n",
        "    raw_data = file.read(10000)\n",
        "result = chardet.detect(raw_data)\n",
        "\n",
        "print(f\"Detected encoding: {result['encoding']}\")\n"
      ],
      "metadata": {
        "colab": {
          "base_uri": "https://localhost:8080/"
        },
        "id": "KtvpxjQZEXgu",
        "outputId": "61f4b0ba-ca60-4d30-8e13-c8e033cb5b8e"
      },
      "execution_count": null,
      "outputs": [
        {
          "output_type": "stream",
          "name": "stdout",
          "text": [
            "Detected encoding: UTF-32\n"
          ]
        }
      ]
    },
    {
      "cell_type": "code",
      "execution_count": null,
      "metadata": {
        "colab": {
          "base_uri": "https://localhost:8080/"
        },
        "id": "GqokB_us8XGm",
        "outputId": "2e4d1b97-45fc-4ed6-d8cf-b45ed51a12b6"
      },
      "outputs": [
        {
          "output_type": "stream",
          "name": "stdout",
          "text": [
            "   property_age property_age_category\n",
            "0           2.0     Less than 5 years\n",
            "1           5.0     Less than 5 years\n",
            "2           5.0     Less than 5 years\n",
            "3           2.0     Less than 5 years\n",
            "4           2.0     Less than 5 years\n",
            "property_age_category\n",
            "Less than 5 years     29409\n",
            "New                   29009\n",
            "5 to 10 years         20233\n",
            "10 to 20 years         4481\n",
            "More than 20 years     1794\n",
            "Name: count, dtype: int64\n"
          ]
        },
        {
          "output_type": "stream",
          "name": "stderr",
          "text": [
            "<ipython-input-1-06ff1d78546b>:6: DtypeWarning: Columns (7,11,16,21,23) have mixed types. Specify dtype option on import or set low_memory=False.\n",
            "  df=pd.read_csv('/content/merged_file_2.csv')\n"
          ]
        }
      ],
      "source": [
        "import pandas as pd\n",
        "import numpy as np\n",
        "import matplotlib.pyplot as plt\n",
        "import seaborn as sns\n",
        "\n",
        "df=pd.read_csv('/content/merged_file_2.csv')\n",
        "\n",
        "def categorize_property_age(age):\n",
        "    if age <= 1:\n",
        "        return 'New'\n",
        "    elif 1 < age <= 5:\n",
        "        return 'Less than 5 years'\n",
        "    elif 5 < age <= 10:\n",
        "        return '5 to 10 years'\n",
        "    elif 10 < age <= 20:\n",
        "        return '10 to 20 years'\n",
        "    else:\n",
        "        return 'More than 20 years'\n",
        "\n",
        "\n",
        "df['property_age_category'] = df['property_age'].apply(categorize_property_age)\n",
        "\n",
        "\n",
        "print(df[['property_age', 'property_age_category']].head())\n",
        "category_counts = df['property_age_category'].value_counts()\n",
        "\n",
        "\n",
        "print(category_counts)"
      ]
    },
    {
      "cell_type": "code",
      "source": [
        "\n",
        "type_counts = df['type'].value_counts()\n",
        "\n",
        "\n",
        "print(type_counts)\n"
      ],
      "metadata": {
        "colab": {
          "base_uri": "https://localhost:8080/"
        },
        "id": "10EkfE0S8_Q2",
        "outputId": "58fc376d-1cab-4825-8837-55e97afabe0b"
      },
      "execution_count": null,
      "outputs": [
        {
          "output_type": "stream",
          "name": "stdout",
          "text": [
            "type\n",
            "BHK2        40381\n",
            "BHK1        25040\n",
            "BHK3         9656\n",
            "RK1          8155\n",
            "BHK4          547\n",
            "BHK4PLUS       50\n",
            "Name: count, dtype: int64\n"
          ]
        }
      ]
    },
    {
      "cell_type": "code",
      "source": [
        "import pandas as pd\n",
        "\n",
        "\n",
        "df = pd.read_csv('merged_file_2.csv', low_memory=False)\n",
        "\n",
        "\n",
        "df['activation_date'] = pd.to_datetime(df['activation_date'], dayfirst=True)\n",
        "df['request_date'] = pd.to_datetime(df['request_date'], dayfirst=True)\n",
        "\n",
        "\n",
        "df['days_since_activation'] = (df['request_date'] - df['activation_date']).dt.days\n",
        "\n",
        "\n",
        "df_within_7_days = df[df['days_since_activation'] <= 7]\n",
        "\n",
        "\n",
        "interaction_counts = df_within_7_days.groupby('property_id').size()\n",
        "\n",
        "total_interactions_majority = interaction_counts.sum()\n",
        "\n",
        "\n",
        "print(f'Total number of interactions for the majority of properties within 7 days of activation: {total_interactions_majority}')\n",
        "\n"
      ],
      "metadata": {
        "colab": {
          "base_uri": "https://localhost:8080/"
        },
        "id": "BrZngNXtAlmF",
        "outputId": "05d6fcee-31ab-4c74-e2f2-13e4e75f8487"
      },
      "execution_count": null,
      "outputs": [
        {
          "output_type": "stream",
          "name": "stdout",
          "text": [
            "Total number of interactions for the majority of properties within 7 days of activation: 37250\n"
          ]
        },
        {
          "output_type": "stream",
          "name": "stderr",
          "text": [
            "<ipython-input-4-27a78721aa16>:8: UserWarning: Parsing dates in %Y-%m-%d %H:%M:%S format when dayfirst=True was specified. Pass `dayfirst=False` or specify a format to silence this warning.\n",
            "  df['request_date'] = pd.to_datetime(df['request_date'], dayfirst=True)\n"
          ]
        }
      ]
    },
    {
      "cell_type": "code",
      "source": [
        "import pandas as pd\n",
        "\n",
        "\n",
        "df = pd.read_csv('merged_file_2.csv')\n",
        "\n",
        "\n",
        "df['request_date'] = pd.to_datetime(df['request_date'], dayfirst=True)\n",
        "\n",
        "\n",
        "interactions_by_apartment = df.groupby('type')['request_date'].count()\n",
        "\n",
        "\n",
        "apartment_with_max_interactions = interactions_by_apartment.idxmax()\n",
        "max_interactions = interactions_by_apartment.max()\n",
        "\n",
        "\n",
        "print(f\"The apartment type with the highest number of interactions is '{apartment_with_max_interactions}' with {max_interactions} interactions.\")\n"
      ],
      "metadata": {
        "colab": {
          "base_uri": "https://localhost:8080/"
        },
        "id": "0zIu1u7_Bbxi",
        "outputId": "66b4e09b-385c-45ca-c5a9-6ef9f625b99e"
      },
      "execution_count": null,
      "outputs": [
        {
          "output_type": "stream",
          "name": "stdout",
          "text": [
            "The apartment type with the highest number of interactions is 'BHK2' with 39044 interactions.\n"
          ]
        },
        {
          "output_type": "stream",
          "name": "stderr",
          "text": [
            "<ipython-input-5-529d29dcb62a>:4: DtypeWarning: Columns (7,11,16,21,23) have mixed types. Specify dtype option on import or set low_memory=False.\n",
            "  df = pd.read_csv('merged_file_2.csv')\n",
            "<ipython-input-5-529d29dcb62a>:7: UserWarning: Parsing dates in %Y-%m-%d %H:%M:%S format when dayfirst=True was specified. Pass `dayfirst=False` or specify a format to silence this warning.\n",
            "  df['request_date'] = pd.to_datetime(df['request_date'], dayfirst=True)\n"
          ]
        }
      ]
    },
    {
      "cell_type": "code",
      "source": [
        "import pandas as pd\n",
        "\n",
        "df = pd.read_csv('merged_file_2.csv')\n",
        "\n",
        "\n",
        "df['request_date'] = pd.to_datetime(df['request_date'], dayfirst=True)\n",
        "\n",
        "\n",
        "top_localities = ['Bellandur', 'Kasavanahalli', 'HBR Layout', 'Brookefield']\n",
        "filtered_df = df[df['locality'].isin(top_localities)]\n",
        "\n",
        "\n",
        "interaction_counts = filtered_df.groupby('locality')['request_date'].count()\n",
        "\n",
        "max_interactions_locality = interaction_counts.idxmax()\n",
        "max_interactions_count = interaction_counts.max()\n",
        "\n",
        "\n",
        "print(f\"The locality with the highest interaction counts is '{max_interactions_locality}' with {max_interactions_count} interactions.\")\n"
      ],
      "metadata": {
        "colab": {
          "base_uri": "https://localhost:8080/"
        },
        "id": "27F1dJA9CHga",
        "outputId": "c4b476ab-d1ba-44fb-9398-74183a003eb1"
      },
      "execution_count": null,
      "outputs": [
        {
          "output_type": "stream",
          "name": "stdout",
          "text": [
            "The locality with the highest interaction counts is 'Bellandur' with 3409 interactions.\n"
          ]
        },
        {
          "output_type": "stream",
          "name": "stderr",
          "text": [
            "<ipython-input-6-2526795ce272>:4: DtypeWarning: Columns (7,11,16,21,23) have mixed types. Specify dtype option on import or set low_memory=False.\n",
            "  df = pd.read_csv('merged_file_2.csv')\n",
            "<ipython-input-6-2526795ce272>:7: UserWarning: Parsing dates in %Y-%m-%d %H:%M:%S format when dayfirst=True was specified. Pass `dayfirst=False` or specify a format to silence this warning.\n",
            "  df['request_date'] = pd.to_datetime(df['request_date'], dayfirst=True)\n"
          ]
        }
      ]
    },
    {
      "cell_type": "code",
      "source": [],
      "metadata": {
        "id": "chLbldMDEqx5"
      },
      "execution_count": null,
      "outputs": []
    }
  ]
}